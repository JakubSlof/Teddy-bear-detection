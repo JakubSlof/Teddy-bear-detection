{
 "cells": [
  {
   "cell_type": "code",
   "execution_count": 2,
   "metadata": {},
   "outputs": [],
   "source": [
    "import numpy as np\n",
    "import matplotlib.pyplot as plt"
   ]
  },
  {
   "cell_type": "code",
   "execution_count": 14,
   "metadata": {},
   "outputs": [
    {
     "name": "stdout",
     "output_type": "stream",
     "text": [
      "Prumer:  3.0439999999999996\n",
      "Polomer: 0.0015219999999999997\n",
      "Prurez kruhu je 7.273759759999997e-06\n",
      "0.025866666666666663\n",
      "0.025639999999999996\n",
      "0.02565\n",
      "0.025599999999999998\n",
      "0.0257\n",
      "Prumer odporu:  0.025691333333333333\n",
      "Merny odpor je 0.35258978600140867\n",
      "Rezistivita vzorku činí 0.35258978600140867 Ω·mm2/m a s přihlédnutím k vlastnostem vodiče jsme z tabulek určili, že se jedná o ..., který má v tabulkách hodnotu rezistivity ... .\n"
     ]
    }
   ],
   "source": [
    "prumery=[3.04,3.05,3.05,3.04,3.04] #pet namerenych prumenru dratu v metrech \n",
    "proudy=[3,2.5,2,1.5,1]#proudy pustene do vodice pet hodnot v amperach \n",
    "napeti=[77.6,64.1,51.3,38.4,25.7]#napeti pri danem proudu ve mili voltech \n",
    "delka_vodice=0.53#delka vodice v metrech \n",
    "################################   \n",
    "odpory=[]\n",
    "######################\n",
    "prumer = np.mean(prumery)\n",
    "print(\"Prumer: \", prumer)\n",
    "polomer = (prumer/2)/1000\n",
    "print (\"Polomer:\", polomer)\n",
    "prurez = (3.14*polomer**2)\n",
    "print (\"Prurez kruhu je\", prurez)\n",
    "u=0\n",
    "for i in proudy:\n",
    "    odpor = (napeti[u]/i)/1000\n",
    "    u += 1\n",
    "    print (odpor)\n",
    "    odpory.append(odpor)\n",
    "prumer_odporu = np.mean(odpory)\n",
    "print(\"Prumer odporu: \", prumer_odporu)\n",
    "merny_odpor= ((prumer_odporu * prurez)/delka_vodice)*1000000\n",
    "print (\"Merny odpor je\", merny_odpor)\n",
    "print(\"Rezistivita vzorku činí\",merny_odpor ,\"Ω·mm2/m a s přihlédnutím k vlastnostem vodiče jsme z tabulek určili, že se jedná o ..., který má v tabulkách hodnotu rezistivity ... .\")\n"
   ]
  },
  {
   "cell_type": "code",
   "execution_count": null,
   "metadata": {},
   "outputs": [],
   "source": [
    "prumery=[3.04,3.05,3.05,3.04,3.04] #pet namerenych prumenru dratu v metrech \n",
    "proudy=[3,2.5,2,1.5,1]#proudy pustene do vodice pet hodnot v amperach \n",
    "napeti=[77.6,64.1,51.3,38.4,25.7]#napeti pri danem proudu ve mili voltech \n",
    "delka_vodice=0.53#delka vodice v metrech \n",
    "################################   \n",
    "odpory=[]\n",
    "######################\n",
    "prumer = np.mean(prumery)\n",
    "print(\"Prumer: \", prumer)\n",
    "polomer = (prumer/2)/1000\n",
    "print (\"Polomer:\", polomer)\n",
    "prurez = (3.14*polomer**2)\n",
    "print (\"Prurez kruhu je\", prurez)\n",
    "u=0\n",
    "for i in proudy:\n",
    "    odpor = (napeti[u]/i)/1000\n",
    "    u += 1\n",
    "    print (odpor)\n",
    "    odpory.append(odpor)\n",
    "prumer_odporu = np.mean(odpory)\n",
    "print(\"Prumer odporu: \", prumer_odporu)\n",
    "merny_odpor= ((prumer_odporu * prurez)/delka_vodice)*1000000\n",
    "print (\"Merny odpor je\", merny_odpor)\n",
    "print(\"Rezistivita vzorku činí\",merny_odpor ,\"Ω·mm2/m a s přihlédnutím k vlastnostem vodiče jsme z tabulek určili, že se jedná o ..., který má v tabulkách hodnotu rezistivity ... .\")\n"
   ]
  }
 ],
 "metadata": {
  "kernelspec": {
   "display_name": "Python 3",
   "language": "python",
   "name": "python3"
  },
  "language_info": {
   "codemirror_mode": {
    "name": "ipython",
    "version": 3
   },
   "file_extension": ".py",
   "mimetype": "text/x-python",
   "name": "python",
   "nbconvert_exporter": "python",
   "pygments_lexer": "ipython3",
   "version": "3.11.3"
  }
 },
 "nbformat": 4,
 "nbformat_minor": 2
}
