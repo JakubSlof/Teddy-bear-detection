{
 "cells": [
  {
   "cell_type": "code",
   "execution_count": 1,
   "metadata": {},
   "outputs": [],
   "source": [
    "import numpy as np\n",
    "import matplotlib.pyplot as plt"
   ]
  },
  {
   "cell_type": "code",
   "execution_count": 14,
   "metadata": {},
   "outputs": [
    {
     "name": "stdout",
     "output_type": "stream",
     "text": [
      "Prumer:  4.0\n",
      "Polomer: 2.0\n",
      "Prurez kruhu je 12.56\n",
      "4.0\n",
      "2.5\n",
      "2.0\n",
      "Prumer odporu:  2.8333333333333335\n",
      "Merny odpor je 1.7793333333333337\n",
      "Rezistivita vzorku činí 1.7793333333333337 Ω·m a s přihlédnutím k vlastnostem vodiče jsme z tabulek určili, že se jedná o ..., který má v tabulkách hodnotu rezistivity ... .\n"
     ]
    }
   ],
   "source": [
    "prumery=[5,4,3,4,4] #pet namerenych prumenru dratu v metrech \n",
    "proudy=[1,2,3]#proudy pustene do vodice pet hodnot v amperach \n",
    "napeti=[4,5,6]#napeti pri danem proudu ve voltech \n",
    "delka_vodice=20#delka vodice v metrech \n",
    "################################   \n",
    "odpory=[]\n",
    "######################\n",
    "prumer = np.mean(prumery)\n",
    "print(\"Prumer: \", prumer)\n",
    "polomer = prumer/2\n",
    "print (\"Polomer:\", polomer)\n",
    "prurez = 3.14*polomer**2\n",
    "print (\"Prurez kruhu je\", prurez)\n",
    "u=0\n",
    "for i in proudy:\n",
    "    odpor = napeti[u]/i\n",
    "    u += 1\n",
    "    print (odpor)\n",
    "    odpory.append(odpor)\n",
    "prumer_odporu = np.mean(odpory)\n",
    "print(\"Prumer odporu: \", prumer_odporu)\n",
    "merny_odpor= (prumer_odporu * prurez)/delka_vodice\n",
    "print (\"Merny odpor je\", merny_odpor)\n",
    "print(\"Rezistivita vzorku činí\",merny_odpor ,\"Ω·m a s přihlédnutím k vlastnostem vodiče jsme z tabulek určili, že se jedná o ..., který má v tabulkách hodnotu rezistivity ... .\")\n"
   ]
  }
 ],
 "metadata": {
  "kernelspec": {
   "display_name": "Python 3",
   "language": "python",
   "name": "python3"
  },
  "language_info": {
   "codemirror_mode": {
    "name": "ipython",
    "version": 3
   },
   "file_extension": ".py",
   "mimetype": "text/x-python",
   "name": "python",
   "nbconvert_exporter": "python",
   "pygments_lexer": "ipython3",
   "version": "3.11.3"
  }
 },
 "nbformat": 4,
 "nbformat_minor": 2
}
